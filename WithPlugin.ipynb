{
  "cells": [
    {
      "cell_type": "code",
      "execution_count": null,
      "metadata": {
        "colab": {
          "base_uri": "https://localhost:8080/"
        },
        "id": "aPPnuOiqSp11",
        "outputId": "43da2cf6-f432-4b80-f4a2-acd6d47c6a9b"
      },
      "outputs": [],
      "source": [
        "# Set arguments\n",
        "os.environ['masscanargs'] = \"--resume paused.conf -oB result.bin --interactive\"\n",
        "# Set work directory\n",
        "os.environ['workDir'] = \"/content/drive/MyDrive/masscan\"\n",
        "\n",
        "# Import needed pakages\n",
        "import os\n",
        "# Install masscan\n",
        "!apt install masscan -y\n",
        "# Download script\n",
        "!wget https://raw.githubusercontent.com/2Peti/masscan-colab/main/runmasscan.sh\n",
        "# Run masscan\n",
        "!cd $workDir && chmod +x runmasscan.sh && ./runmasscan.sh\n",
        "\n",
        "!kill $(ps aux | awk '{print $2}')"
      ]
    },
    {
      "cell_type": "code",
      "execution_count": null,
      "metadata": {
        "id": "5cIxFUSsHS-L"
      },
      "outputs": [],
      "source": [
        "# Set work directory\n",
        "workDir = \"/content/drive/MyDrive/masscan\"\n",
        "os.environ['workDir'] = workDir\n",
        "# Generate config\n",
        "!cd $workDir && masscan -p25565-25577 0.0.0.0/0 --max-rate 1000000 -oL result.txt --interactive --echo >> paused.conf"
      ]
    },
    {
      "cell_type": "code",
      "execution_count": null,
      "metadata": {},
      "outputs": [],
      "source": [
        "# Set work directory\n",
        "workDir = \"/content/drive/MyDrive/masscan\"\n",
        "os.environ['workDir'] = workDir\n",
        "# Convert bin to IP:Port format.\n",
        "!cd $workDir && masscan --readscan result.bin -oL tmp.txt\n",
        "\n",
        "\n",
        "inputfile = f\"{workDir}/tmp.txt\"\n",
        "outputfile = f\"{workDir}/out.txt\"\n",
        "\n",
        "fileHandler = open(str(inputfile), \"r\")\n",
        "listOfLines = fileHandler.readlines()\n",
        "fileHandler.close()\n",
        "os.remove(inputfile)\n",
        "\n",
        "text_file = open(outputfile, \"w\")\n",
        "for line in listOfLines:\n",
        "  if line.strip()[0] != \"#\":\n",
        "    text_file.write(line.strip().split(' ',4)[3] + \":\" + line.strip().split(' ',4)[2] + \"\\n\")\n",
        "text_file.close()"
      ]
    }
  ],
  "metadata": {
    "colab": {
      "collapsed_sections": [],
      "name": "Untitled0.ipynb",
      "provenance": []
    },
    "kernelspec": {
      "display_name": "Python 3.8.10 64-bit",
      "language": "python",
      "name": "python3"
    },
    "language_info": {
      "name": "python",
      "version": "3.8.10"
    },
    "vscode": {
      "interpreter": {
        "hash": "916dbcbb3f70747c44a77c7bcd40155683ae19c65e1c03b4aa3499c5328201f1"
      }
    }
  },
  "nbformat": 4,
  "nbformat_minor": 0
}
